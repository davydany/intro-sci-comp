{
 "metadata": {
  "name": "",
  "signature": "sha256:17ff528a9e4529cbe2747f4b1753704a64bcfe7d101fa6e4b7af88b6ec034546"
 },
 "nbformat": 3,
 "nbformat_minor": 0,
 "worksheets": [
  {
   "cells": [
    {
     "cell_type": "code",
     "collapsed": false,
     "input": [
      "from pylab import *\n",
      "t = arange(0.0, 2.0, 0.01)\n",
      "s = sin(2*pi*t)\n",
      "plot(t, s)\n",
      "xlabel('time (s)')\n",
      "ylabel('voltage (mV)')\n",
      "title('About as simple as it gets, folks')\n",
      "grid(True)\n",
      "savefig(\"test.png\")\n",
      "show()"
     ],
     "language": "python",
     "metadata": {},
     "outputs": [],
     "prompt_number": 1
    },
    {
     "cell_type": "code",
     "collapsed": false,
     "input": [
      "np"
     ],
     "language": "python",
     "metadata": {},
     "outputs": [
      {
       "metadata": {},
       "output_type": "pyout",
       "prompt_number": 2,
       "text": [
        "<module 'numpy' from '/usr/local/lib/python2.7/site-packages/numpy/__init__.pyc'>"
       ]
      }
     ],
     "prompt_number": 2
    },
    {
     "cell_type": "code",
     "collapsed": false,
     "input": [
      "\"\"\"\n",
      "Simple demo with multiple subplots.\n",
      "\"\"\"\n",
      "import numpy as np\n",
      "import matplotlib.pyplot as plt\n",
      "\n",
      "\n",
      "x1 = np.linspace(0.0, 5.0)\n",
      "x2 = np.linspace(0.0, 2.0)\n",
      "\n",
      "y1 = np.cos(2 * np.pi * x1) * np.exp(-x1)\n",
      "y2 = np.cos(2 * np.pi * x2)\n",
      "\n",
      "plt.subplot(2, 1, 1)\n",
      "plt.plot(x1, y1, 'yo-')\n",
      "plt.title('A tale of 2 subplots')\n",
      "plt.ylabel('Damped oscillation')\n",
      "\n",
      "plt.subplot(2, 1, 2)\n",
      "plt.plot(x2, y2, 'r.-')\n",
      "plt.xlabel('time (s)')\n",
      "plt.ylabel('Undamped')\n",
      "\n",
      "plt.show()\n"
     ],
     "language": "python",
     "metadata": {},
     "outputs": [],
     "prompt_number": 3
    },
    {
     "cell_type": "code",
     "collapsed": false,
     "input": [],
     "language": "python",
     "metadata": {},
     "outputs": []
    }
   ],
   "metadata": {}
  }
 ]
}